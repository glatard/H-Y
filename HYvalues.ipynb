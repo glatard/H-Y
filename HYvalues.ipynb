{
 "cells": [
  {
   "cell_type": "markdown",
   "metadata": {},
   "source": [
    "This notebook investigates the descrepancies between H&Y values reported in 'PPMI_Original_Cohort_BL_to_Year_5_Dataset_Apr2020.csv' (variables 'hy' and 'hy_on) and in 'MDS_UPDRS_Part_III.csv' (variable NHY)."
   ]
  },
  {
   "cell_type": "code",
   "execution_count": 1,
   "metadata": {},
   "outputs": [],
   "source": [
    "# Download required files\n",
    "\n",
    "import os\n",
    "import ppmi_downloader\n",
    "\n",
    "data_dir = 'data'\n",
    "\n",
    "if not os.path.exists(data_dir):\n",
    "    os.makedirs(data_dir)\n",
    "required_files = ['PPMI_Original_Cohort_BL_to_Year_5_Dataset_Apr2020.csv', 'MDS_UPDRS_Part_III.csv']\n",
    "missing_files = [x for x in required_files if not os.path.exists(os.path.join(data_dir, x))]\n",
    "\n",
    "\n",
    "if len(missing_files) > 0:\n",
    "    ppmi = ppmi_downloader.PPMIDownloader('', '')\n",
    "    ppmi.download_metadata(missing_files, destination_dir=data_dir, headless=False, timeout=600)\n"
   ]
  },
  {
   "cell_type": "code",
   "execution_count": 2,
   "metadata": {},
   "outputs": [
    {
     "name": "stderr",
     "output_type": "stream",
     "text": [
      "/usr/lib/python3.8/site-packages/IPython/core/interactiveshell.py:3331: DtypeWarning: Columns (10,17,18,19,20) have mixed types.Specify dtype option on import or set low_memory=False.\n",
      "  exec(code_obj, self.user_global_ns, self.user_ns)\n"
     ]
    }
   ],
   "source": [
    "import os.path as op\n",
    "import pandas as pd\n",
    "\n",
    "updrs = pd.read_csv(op.join('data','MDS_UPDRS_Part_III.csv'))\n",
    "keep = ['PATNO', 'EVENT_ID', 'PDSTATE', 'NHY', 'PDMEDDT']\n",
    "updrs = updrs.drop([x for x in updrs.columns if x not in keep], axis=1)\n",
    "\n",
    "# Focus on PDSTATE OFF\n",
    "#updrs = updrs[updrs['PDSTATE']!='ON']\n",
    "\n",
    "curated = pd.read_csv(op.join('data', 'PPMI_Original_Cohort_BL_to_Year_5_Dataset_Apr2020.csv'))\n",
    "keep = ['PATNO', 'EVENT_ID', 'hy', 'hy_on', 'visit_date']\n",
    "curated = curated.drop([x for x in curated.columns if x not in keep], axis=1)"
   ]
  },
  {
   "cell_type": "code",
   "execution_count": 3,
   "metadata": {},
   "outputs": [],
   "source": [
    "df = updrs.merge(curated, how='outer', on=['PATNO', 'EVENT_ID'])"
   ]
  },
  {
   "cell_type": "markdown",
   "metadata": {},
   "source": []
  },
  {
   "cell_type": "code",
   "execution_count": 4,
   "metadata": {},
   "outputs": [
    {
     "data": {
      "text/plain": [
       "43"
      ]
     },
     "execution_count": 4,
     "metadata": {},
     "output_type": "execute_result"
    }
   ],
   "source": [
    "# How many values are missing in UPDRS-III?\n",
    "missing_NHY = df[(df['hy'].notnull()) & (df['NHY'].isnull())]\n",
    "len(missing_NHY)"
   ]
  },
  {
   "cell_type": "markdown",
   "metadata": {},
   "source": [
    "Let's ignore these missing values for now, as they aren't so numerous."
   ]
  },
  {
   "cell_type": "code",
   "execution_count": 5,
   "metadata": {},
   "outputs": [
    {
     "data": {
      "text/plain": [
       "14332"
      ]
     },
     "execution_count": 5,
     "metadata": {},
     "output_type": "execute_result"
    }
   ],
   "source": [
    "# How many values are missing in Cohort Cut?\n",
    "missing_hy = df[(df['hy'].isnull()) & (df['NHY'].notnull())]\n",
    "len(missing_hy)"
   ]
  },
  {
   "cell_type": "markdown",
   "metadata": {},
   "source": [
    "Most of these missing values, but not all of them, are due to the fact that the Cohort Cut only covers the first 5 years of the study."
   ]
  },
  {
   "cell_type": "code",
   "execution_count": null,
   "metadata": {},
   "outputs": [],
   "source": []
  }
 ],
 "metadata": {
  "kernelspec": {
   "display_name": "Python 3.8.9 64-bit",
   "language": "python",
   "name": "python38964bitc399adc8f8ec440ba2e333c1f6098275"
  },
  "language_info": {
   "codemirror_mode": {
    "name": "ipython",
    "version": 3
   },
   "file_extension": ".py",
   "mimetype": "text/x-python",
   "name": "python",
   "nbconvert_exporter": "python",
   "pygments_lexer": "ipython3",
   "version": "3.8.9"
  },
  "toc": {
   "base_numbering": 1,
   "nav_menu": {},
   "number_sections": true,
   "sideBar": true,
   "skip_h1_title": false,
   "title_cell": "Table of Contents",
   "title_sidebar": "Contents",
   "toc_cell": false,
   "toc_position": {},
   "toc_section_display": true,
   "toc_window_display": false
  }
 },
 "nbformat": 4,
 "nbformat_minor": 4
}
